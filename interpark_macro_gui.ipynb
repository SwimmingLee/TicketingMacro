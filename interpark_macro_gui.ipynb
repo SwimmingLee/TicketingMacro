{
 "cells": [
  {
   "cell_type": "code",
   "execution_count": 1,
   "id": "c49841fb-09ef-48f4-a5a1-b74abfc5d6db",
   "metadata": {},
   "outputs": [],
   "source": [
    "from selenium import webdriver\n",
    "from selenium.webdriver.common.by import By\n",
    "from selenium.webdriver.support.ui import WebDriverWait\n",
    "from selenium.webdriver.support import expected_conditions as EC\n",
    "from selenium.common.exceptions import NoSuchElementException\n",
    "from selenium.common.exceptions import UnexpectedAlertPresentException\n",
    "from selenium.common.exceptions import ElementNotInteractableException\n",
    "from selenium.common.exceptions import TimeoutException\n",
    "from selenium.webdriver.common.alert import Alert\n",
    "import re\n",
    "from datetime import datetime\n",
    "import time\n"
   ]
  },
  {
   "cell_type": "code",
   "execution_count": 2,
   "id": "b88b6c96-01b8-40b0-b615-78fb15c2b8ab",
   "metadata": {},
   "outputs": [],
   "source": [
    "def selenium_init():\n",
    "    driver = webdriver.Chrome('chromedriver.exe')\n",
    "    driver.implicitly_wait(5)\n",
    "    return driver"
   ]
  },
  {
   "cell_type": "code",
   "execution_count": 3,
   "id": "c80bf1e0-e358-41bc-9de1-4682768bcd0a",
   "metadata": {},
   "outputs": [],
   "source": [
    "def login(driver, id, pwd, musical_id):\n",
    "    \n",
    "    interpark_login_url = 'https://ticket.interpark.com/Gate/TPLogin.asp?CPage=B&MN=Y&tid1=main_gnb&tid2=right_top&tid3=login&tid4=login&GPage=https%3A%2F%2Ftickets.interpark.com%2Fgoods%2F' + musical_id\n",
    "    driver.get(interpark_login_url)\n",
    "\n",
    "    driver.switch_to.frame(driver.find_element(By.XPATH, \"//div[@class='leftLoginBox']/iframe[@title='login']\"))\n",
    "    driver.find_element_by_name('userId').send_keys(id)\n",
    "    driver.find_element_by_name('userPwd').send_keys(pwd)\n",
    "    driver.find_element_by_id('btn_login').click()"
   ]
  },
  {
   "cell_type": "code",
   "execution_count": 4,
   "id": "8f1f04cc-aee2-4b20-a412-ae9e68d9a0c2",
   "metadata": {},
   "outputs": [],
   "source": [
    "# 태그가 없으면 에러발생\n",
    "def check_exists_by_element(driver, by, name):\n",
    "    elements = driver.find_elements(by, name)\n",
    "    print(elements)\n",
    "    if not elements:\n",
    "        return False\n",
    "    else:\n",
    "        return True\n"
   ]
  },
  {
   "cell_type": "code",
   "execution_count": 5,
   "id": "276959e0-bd4b-4a5e-82b1-bb38e31a2ec7",
   "metadata": {},
   "outputs": [],
   "source": [
    "def close_tickting_info_popup(driver):\n",
    "    # 예매안내가 팝업이 뜨면 닫기. ( ticketingInfo_check : True, False )\n",
    "    ticketinginfo_check = check_exists_by_element(driver, By.XPATH, \"//div[@class='popupWrap']/div[@class='popupFooter']/button[@class='popupCloseBtn is-bottomBtn']\")\n",
    "    if ticketinginfo_check:\n",
    "        popup_close_btn = driver.find_element(By.XPATH, \"//button[@class='popupCloseBtn is-bottomBtn']\")\n",
    "        if popup_close_btn.text != \"\":\n",
    "            popup_close_btn.click()"
   ]
  },
  {
   "cell_type": "code",
   "execution_count": 6,
   "id": "7d2b6fcc-68a9-4b48-8222-e626b3d474b8",
   "metadata": {},
   "outputs": [],
   "source": [
    "def close_ticketing_check_popup(driver):\n",
    "    # 예매안내가 팝업이 뜨면 닫기. ( ticketingInfo_check : True, False )\n",
    "    driver.switch_to.default_content()\n",
    "    ticketingInfo_check = check_exists_by_element(driver, By.XPATH, \"//div[@class='layerWrap']/div[@class='titleArea']/a[@class='closeBtn']\")\n",
    "    if ticketingInfo_check:\n",
    "        driver.find_element(By.XPATH, \"//div[@class='layerWrap']/div[@class='titleArea']/a[@class='closeBtn']\").click()"
   ]
  },
  {
   "cell_type": "code",
   "execution_count": 7,
   "id": "1c8cea44-d580-4771-9d2d-eab1e4a95503",
   "metadata": {},
   "outputs": [],
   "source": [
    "def clickWantDate2(driver, wantYear, wantMonth, wantDay, wantTime):\n",
    "    year_month = driver.find_element(By.XPATH, \"//ul/li[@data-view='month current']\").text.split('.')\n",
    "    year = year_month[0].strip()\n",
    "    month = year_month[1].strip()\n",
    "    \n",
    "    year_diff = wantYear - int(year)\n",
    "    month_diff = wantMonth - int(month)\n",
    "    \n",
    "    total_month_diff = year_diff * 12 + month_diff\n",
    "    \n",
    "    # 원하는 월이 될 때까지 이동\n",
    "    for i in range(abs(total_month_diff)):\n",
    "        if total_month_diff > 0:\n",
    "            next_month = WebDriverWait(driver, 5).until(EC.element_to_be_clickable((By.XPATH, \"//ul/li[@data-view='month next']\")))\n",
    "            driver.execute_script(\"arguments[0].click();\", next_month)\n",
    "#           # next_month = driver.find_element(By.XPATH, \"//ul/li[@data-view='month next']\")\n",
    "            print(next_month.text)\n",
    "            \n",
    "#             next_month.click()\n",
    "        else:\n",
    "            prev_month = WebDriverWait(driver, 5).until(EC.element_to_be_clickable((By.XPATH, \"//ul/li[@data-view='month prev']\")))\n",
    "            driver.execute_script(\"arguments[0].click();\", prev_month)\n",
    "#           # prev_month = driver.find_element(By.XPATH, \"//ul/li[@data-view='month prev']\")\n",
    "#             prev_month.click()\n",
    "    \n",
    "    # 원하는 일자 클릭\n",
    "#     time.sleep(0.1)\n",
    "#     day = WebDriverWait(driver, 5).until(EC.presence_of_element_located((By.XPATH, \"//div[@class='datepicker-panel']/ul[@data-view='days']/li[text()='\" + str(wantDay) + \"']\")))\n",
    "#     print(day.text)\n",
    "    days = driver.find_elements(By.XPATH, \"//div[@class='datepicker-panel']/ul[@data-view='days']/li\")\n",
    "    for day in days:\n",
    "            if int(day.text) == wantDay:\t# wantDate : 예매 원하는 일\n",
    "                day.click()\n",
    "                break\n",
    "#     driver.execute_script(\"arguments[0].click();\", day)\n",
    "#     day.click()\n",
    "\n",
    "            \n",
    "    # 원하는 시간 클릭\n",
    "    show_times = driver.find_elements(By.XPATH, \"//ul[@class='timeTableList']/li\")\n",
    "    for show_time in show_times:\n",
    "        if show_time.text.split(' ')[1] == wantTime:\n",
    "            show_time.click()\n",
    "            break\n",
    "    \n",
    "    "
   ]
  },
  {
   "cell_type": "code",
   "execution_count": 8,
   "id": "b4953b6e-2c96-4b53-b777-4fbb82aca64d",
   "metadata": {},
   "outputs": [],
   "source": [
    "def click_book_btn(driver):\n",
    "    print(driver.find_element(By.XPATH, \"//li[@data-view='month current']\").text)\n",
    "    \n",
    "#     (driver.find_element(By.XPATH, \"//li[@data-view='month next']\").text)\n",
    "    \n",
    "    # 예매하기 버튼 클릭\n",
    "    driver.find_element(By.XPATH, \"//div[@class='sideBtnWrap']/a[@class='sideBtn is-primary']\").click()\n"
   ]
  },
  {
   "cell_type": "code",
   "execution_count": 9,
   "id": "508d1789-7e69-4f92-8bc1-3f24fedd770a",
   "metadata": {},
   "outputs": [],
   "source": [
    "def switching_focus(driver):\n",
    "    # 예매하기 눌러서 새창이 뜨면 포커스를 새창으로 변경\n",
    "    driver.switch_to.window(driver.window_handles[1])\n",
    "    driver.get_window_position(driver.window_handles[1])"
   ]
  },
  {
   "cell_type": "code",
   "execution_count": 10,
   "id": "82866f4f-0325-48c9-afca-4ac96466e864",
   "metadata": {},
   "outputs": [],
   "source": [
    "def waitSafeBooking(driver):\n",
    "    driver.switch_to.default_content()\n",
    "    iframe_element = WebDriverWait(driver, 30).until(EC.visibility_of_element_located((By.XPATH, \"//div[@id='divBookSeat']/iframe[@id='ifrmSeat']\")))\n",
    "    driver.switch_to.frame(iframe_element)\n",
    "    \n",
    "    recaptcha_input = driver.find_elements(By.XPATH, \"//div[@class='validationTxt']\")\n",
    "    recaptcha_input[0].click()\n",
    "    \n",
    "    video_element = WebDriverWait(driver, 30).until(EC.presence_of_element_located((By.XPATH, \"//div[@id='divRecaptcha' and @style='display: none;']\")))\n",
    "    print(\"안심예매 RECAPTCHA 눌렀다!\")\n",
    "    "
   ]
  },
  {
   "cell_type": "code",
   "execution_count": 11,
   "id": "01ee2dbf-f93f-4826-90a6-fc8098931ef4",
   "metadata": {},
   "outputs": [],
   "source": [
    "def clickWantSeat(driver):\n",
    "    driver.switch_to.default_content()\n",
    "    driver.switch_to.frame(driver.find_element(By.XPATH, \"//div[@id='divBookSeat']/iframe[@id='ifrmSeat']\"))\n",
    "    driver.switch_to.frame(driver.find_element(By.XPATH, \"//div[@class='seatL']/iframe[@id='ifrmSeatDetail']\"))\n",
    "    stySeats = driver.find_elements(By.XPATH, \"//img[@class='stySeat']\")\n",
    "    for seat in stySeats:\n",
    "        seatInfo = seat.get_attribute(\"onclick\").split(',')\n",
    "\n",
    "        floor = int(re.findall('\\d+', seatInfo[2])[0])\n",
    "        column = int(re.findall('\\d+', seatInfo[3])[0])\n",
    "        row = int(re.findall('\\d+', seatInfo[4])[0])\n",
    "        print(\"여기 뜨는게 없다고?\", floor, column, row)\n",
    "\n",
    "        if floor == 1 and column <= 25 and 9 <= row <= 26:\n",
    "            print(seat.text)\n",
    "            seat.click()\n",
    "            break\n",
    "    \n",
    "    driver.switch_to.default_content()\n",
    "    driver.switch_to.frame(driver.find_element(By.XPATH, \"//div[@id='divBookSeat']/iframe[@id='ifrmSeat']\"))\n",
    "    nextBtn = driver.find_element(By.XPATH, \"//div[@class='btnWrap']/a\")\n",
    "    print(nextBtn.text)\n",
    "    nextBtn.click()\n",
    "    \n",
    "    try:\n",
    "        WebDriverWait(driver, 1).until(EC.alert_is_present(),\n",
    "                                       'Timed out waiting for PA creation ' +\n",
    "                                       'confirmation popup to appear.')\n",
    "\n",
    "        alert = driver.switch_to.alert\n",
    "#         if alert.is_displayed():\n",
    "        if alert.text.strip() == '좌석을 선택하세요.':\n",
    "            print(\"좌선 크크아아 선택\")\n",
    "        alert.accept()\n",
    "        print(\"alert accepted\")\n",
    "        clickWantSeat(driver)\n",
    "     \n",
    "    except TimeoutException:\n",
    "        print(\"no alert\")\n",
    "        "
   ]
  },
  {
   "cell_type": "code",
   "execution_count": 12,
   "id": "d89695be-e707-48d8-84e8-64a15cc5eb9b",
   "metadata": {},
   "outputs": [],
   "source": [
    "def clickTicketPrice(driver):\n",
    "    driver.switch_to.default_content()\n",
    "    driver.switch_to.frame(driver.find_element(By.XPATH, \"//div[@class='contL']/iframe[@id='ifrmBookStep']\"))\n",
    "    ticketNums = driver.find_elements(By.XPATH, \"//tr[@id='PriceRow001']/td[@class='taL']/select/option\")\n",
    "    for ticketNum in ticketNums:\n",
    "        num = int(re.findall('\\d+', ticketNum.text)[0])\n",
    "        if num == 1:\n",
    "            ticketNum.click()\n",
    "            break\n",
    "\n",
    "    driver.switch_to.default_content()\n",
    "    driver.find_element(By.XPATH, \"//p[@id='SmallNextBtn']\").click()"
   ]
  },
  {
   "cell_type": "code",
   "execution_count": 13,
   "id": "7300c660-961f-40cf-abd4-3f8e8817b471",
   "metadata": {},
   "outputs": [],
   "source": [
    "def confirmOderInfo(driver, birthDay, phoneNumber):\n",
    "    driver.switch_to.default_content()\n",
    "    driver.switch_to.frame(driver.find_element(By.XPATH, \"//div[@class='contL']/iframe[@id='ifrmBookStep']\"))\n",
    "    driver.find_element_by_id('YYMMDD').clear()\n",
    "    driver.find_element_by_id('YYMMDD').send_keys(birthDay)\n",
    "    driver.find_element_by_id('HpNo1').clear()\n",
    "    driver.find_element_by_id('HpNo1').send_keys(phoneNumber[0])\n",
    "    driver.find_element_by_id('HpNo2').clear()\n",
    "    driver.find_element_by_id('HpNo2').send_keys(phoneNumber[1])\n",
    "    driver.find_element_by_id('HpNo3').clear()\n",
    "    driver.find_element_by_id('HpNo3').send_keys(phoneNumber[2])\n",
    "\n",
    "    driver.switch_to.default_content()\n",
    "    driver.find_element(By.XPATH, \"//p[@id='SmallNextBtn']\").click()"
   ]
  },
  {
   "cell_type": "code",
   "execution_count": 14,
   "id": "e51b733a-076f-4415-ba22-666595249195",
   "metadata": {},
   "outputs": [],
   "source": [
    "def clickPaymentMethod(driver, wantBank):\n",
    "    driver.switch_to.default_content()\n",
    "    driver.switch_to.frame(driver.find_element(By.XPATH, \"//div[@class='contL']/iframe[@id='ifrmBookStep']\"))\n",
    "    \n",
    "    # 무통장입금 클릭(매칭 id로 검색)\n",
    "    # 유연하게 진행하기 위해선 결제방식에 따른 id값을 미리 가지고 있을 필요있음\n",
    "    driver.find_element(By.XPATH, \"//tr[@id='Payment_22004']/td/input\").click()\n",
    "\n",
    "    # 입금 은행 - 농협 클릭\n",
    "    banks = driver.find_elements(By.XPATH, \"//select[@id='BankCode']/option\")\n",
    "    for bank in banks:\n",
    "        if bank.text == wantBank:\n",
    "            bank.click()\n",
    "            break\n",
    "\n",
    "    driver.switch_to.default_content()\n",
    "    driver.find_element(By.XPATH, \"//p[@id='SmallNextBtn']\").click()"
   ]
  },
  {
   "cell_type": "code",
   "execution_count": 15,
   "id": "d7524e6b-499e-49fb-a51a-ebe4fdf27bef",
   "metadata": {},
   "outputs": [],
   "source": [
    "def agreePayment(driver):\n",
    "    driver.switch_to.default_content()\n",
    "    driver.switch_to.frame(driver.find_element(By.XPATH, \"//div[@class='contL']/iframe[@id='ifrmBookStep']\"))\n",
    "    driver.find_element_by_id('checkAll').click()\n",
    "\n",
    "    driver.switch_to.default_content()\n",
    "    driver.find_element(By.XPATH, \"//p[@id='LargeNextBtn']\").click()"
   ]
  },
  {
   "cell_type": "code",
   "execution_count": null,
   "id": "d70e1b87-135b-431b-90d8-305143b2fec0",
   "metadata": {},
   "outputs": [],
   "source": []
  },
  {
   "cell_type": "code",
   "execution_count": 16,
   "id": "f96baec9-08b3-4e19-b403-e165c656b9a8",
   "metadata": {},
   "outputs": [],
   "source": [
    "import sys\n",
    "from PyQt5.QtWidgets import QApplication, QWidget, QLabel, QLineEdit, QDateTimeEdit, QPushButton, QVBoxLayout\n",
    "from PyQt5.QtCore import Qt, QDate, QDateTime\n",
    "from PyQt5.QtGui import QIcon\n",
    "\n",
    "class MyApp(QWidget):\n",
    "\n",
    "    def __init__(self):\n",
    "        super().__init__()\n",
    "        self.initUI()\n",
    "\n",
    "    def initUI(self):\n",
    "        self.setWindowTitle('SwimmingLee Interpark Macro')\n",
    "        self.setWindowIcon(QIcon('swim_con.png'))\n",
    "        \n",
    "        self.ticketing_info = QLabel('시범용입니다. 하하 ', self)\n",
    "        self.ticketing_info.setAlignment(Qt.AlignCenter)\n",
    "        \n",
    "        self.ticketing_info_font = self.ticketing_info.font()\n",
    "        self.ticketing_info_font.setPointSize(20)\n",
    "        self.ticketing_info.setFont(self.ticketing_info_font)\n",
    "        \n",
    "        \n",
    "        self.date_time_label = QLabel('Date: ')\n",
    "        self.date_time_edit = QDateTimeEdit(self, calendarPopup=True)\n",
    "        self.date_time_edit.setDateTime(QDateTime.currentDateTime())\n",
    "        self.date_time_edit.setMinimumDateTime(QDateTime(2021, 1, 1, 00, 00, 00))\n",
    "        self.date_time_edit.setMaximumDateTime(QDateTime(2030, 12, 31, 00, 00, 00))\n",
    "        self.date_time_edit.setDisplayFormat('yyyy.MM.dd hh:mm')\n",
    "        \n",
    "        self.id_label = QLabel('ID: ')\n",
    "        self.id_edit = QLineEdit(self)\n",
    "        self.id_edit.setPlaceholderText(\"Set your Interpark ID\")\n",
    "        \n",
    "        self.pw_label = QLabel('PW: ')\n",
    "        self.pw_edit = QLineEdit(self)\n",
    "        self.pw_edit.setEchoMode(QLineEdit.Password)\n",
    "        self.pw_edit.setPlaceholderText(\"Set your Interpark password\")\n",
    "        \n",
    "        self.show_label = QLabel('Show Code: ')\n",
    "        self.show_edit = QLineEdit(self)\n",
    "        self.show_edit.setPlaceholderText(\"Set your Interpark show code\")\n",
    "#         show_edit.setValidator(QIntValidator())\n",
    "        \n",
    "        \n",
    "        self.login_btn = QPushButton('Login', self)\n",
    "        self.login_btn.setCheckable(True)\n",
    "        self.login_btn.clicked.connect(self.login)\n",
    "        \n",
    "        self.ticketing_btn = QPushButton('Start', self)\n",
    "        self.ticketing_btn.setCheckable(True)\n",
    "        self.ticketing_btn.clicked.connect(self.ticketingStart)\n",
    "        \n",
    "        \n",
    "        vbox = QVBoxLayout()\n",
    "        \n",
    "        vbox.addWidget(self.ticketing_info)\n",
    "        \n",
    "        vbox.addWidget(self.id_label)\n",
    "        vbox.addWidget(self.id_edit)\n",
    "        \n",
    "        vbox.addWidget(self.pw_label)\n",
    "        vbox.addWidget(self.pw_edit)\n",
    "        \n",
    "        vbox.addWidget(self.show_label)\n",
    "        vbox.addWidget(self.show_edit)\n",
    "        \n",
    "        vbox.addWidget(self.date_time_label)\n",
    "        vbox.addWidget(self.date_time_edit)\n",
    "        \n",
    "        vbox.addStretch()\n",
    "        \n",
    "        vbox.addWidget(self.login_btn)\n",
    "        vbox.addWidget(self.ticketing_btn)\n",
    "        \n",
    "        self.setLayout(vbox)\n",
    "        \n",
    "        self.setGeometry(300, 300, 300, 200)\n",
    "        self.move(300, 300)\n",
    "        self.resize(400, 200)\n",
    "        self.show()\n",
    "\n",
    "    def login(self):\n",
    "        id = self.id_edit.text()\n",
    "        pw = self.pw_edit.text()\n",
    "        show_id = self.show_edit.text()\n",
    "        \n",
    "        want_date = self.date_time_edit.date()\n",
    "        want_year = want_date.year()\n",
    "        want_month = want_date.month()\n",
    "        want_day = want_date.day()  \n",
    "        want_time = self.date_time_edit.time().toString('hh:mm')\n",
    "        \n",
    "        self.driver = selenium_init()\n",
    "        login(self.driver, id, pw, show_id)\n",
    "        close_tickting_info_popup(self.driver)\n",
    "        clickWantDate2(self.driver, want_year, want_month, want_day, want_time)\n",
    "        \n",
    "        \n",
    "    def ticketingStart(self):\n",
    "        \n",
    "        self.driver.switch_to.window(self.driver.window_handles[0])\n",
    "        self.driver.get_window_position(self.driver.window_handles[0])\n",
    "    \n",
    "    \n",
    "        click_book_btn(self.driver)\n",
    "        switching_focus(self.driver)\n",
    "        close_ticketing_check_popup(self.driver)\n",
    "        waitSafeBooking(self.driver)\n",
    "\n",
    "        clickWantSeat(self.driver)\n",
    "        clickTicketPrice(self.driver)\n",
    "        confirmOderInfo(self.driver, '930111', ['010', '7294', '6010'])\n",
    "        clickPaymentMethod(self.driver, '농협(중앙)')"
   ]
  },
  {
   "cell_type": "code",
   "execution_count": 17,
   "id": "0be92bd8-ea85-4780-8090-9d965c8b2f7d",
   "metadata": {},
   "outputs": [
    {
     "name": "stdout",
     "output_type": "stream",
     "text": [
      "[]\n"
     ]
    },
    {
     "ename": "NoSuchWindowException",
     "evalue": "Message: no such window: target window already closed\nfrom unknown error: web view not found\n  (Session info: chrome=91.0.4472.164)\n",
     "output_type": "error",
     "traceback": [
      "\u001b[1;31m---------------------------------------------------------------------------\u001b[0m",
      "\u001b[1;31mNoSuchWindowException\u001b[0m                     Traceback (most recent call last)",
      "\u001b[1;32m<ipython-input-16-8320aedc5e5a>\u001b[0m in \u001b[0;36mlogin\u001b[1;34m(self)\u001b[0m\n\u001b[0;32m     95\u001b[0m         \u001b[0mlogin\u001b[0m\u001b[1;33m(\u001b[0m\u001b[0mself\u001b[0m\u001b[1;33m.\u001b[0m\u001b[0mdriver\u001b[0m\u001b[1;33m,\u001b[0m \u001b[0mid\u001b[0m\u001b[1;33m,\u001b[0m \u001b[0mpw\u001b[0m\u001b[1;33m,\u001b[0m \u001b[0mshow_id\u001b[0m\u001b[1;33m)\u001b[0m\u001b[1;33m\u001b[0m\u001b[1;33m\u001b[0m\u001b[0m\n\u001b[0;32m     96\u001b[0m         \u001b[0mclose_tickting_info_popup\u001b[0m\u001b[1;33m(\u001b[0m\u001b[0mself\u001b[0m\u001b[1;33m.\u001b[0m\u001b[0mdriver\u001b[0m\u001b[1;33m)\u001b[0m\u001b[1;33m\u001b[0m\u001b[1;33m\u001b[0m\u001b[0m\n\u001b[1;32m---> 97\u001b[1;33m         \u001b[0mclickWantDate2\u001b[0m\u001b[1;33m(\u001b[0m\u001b[0mself\u001b[0m\u001b[1;33m.\u001b[0m\u001b[0mdriver\u001b[0m\u001b[1;33m,\u001b[0m \u001b[0mwant_year\u001b[0m\u001b[1;33m,\u001b[0m \u001b[0mwant_month\u001b[0m\u001b[1;33m,\u001b[0m \u001b[0mwant_day\u001b[0m\u001b[1;33m,\u001b[0m \u001b[0mwant_time\u001b[0m\u001b[1;33m)\u001b[0m\u001b[1;33m\u001b[0m\u001b[1;33m\u001b[0m\u001b[0m\n\u001b[0m\u001b[0;32m     98\u001b[0m \u001b[1;33m\u001b[0m\u001b[0m\n\u001b[0;32m     99\u001b[0m \u001b[1;33m\u001b[0m\u001b[0m\n",
      "\u001b[1;32m<ipython-input-7-a4f5b682f6fb>\u001b[0m in \u001b[0;36mclickWantDate2\u001b[1;34m(driver, wantYear, wantMonth, wantDay, wantTime)\u001b[0m\n\u001b[0;32m      1\u001b[0m \u001b[1;32mdef\u001b[0m \u001b[0mclickWantDate2\u001b[0m\u001b[1;33m(\u001b[0m\u001b[0mdriver\u001b[0m\u001b[1;33m,\u001b[0m \u001b[0mwantYear\u001b[0m\u001b[1;33m,\u001b[0m \u001b[0mwantMonth\u001b[0m\u001b[1;33m,\u001b[0m \u001b[0mwantDay\u001b[0m\u001b[1;33m,\u001b[0m \u001b[0mwantTime\u001b[0m\u001b[1;33m)\u001b[0m\u001b[1;33m:\u001b[0m\u001b[1;33m\u001b[0m\u001b[1;33m\u001b[0m\u001b[0m\n\u001b[1;32m----> 2\u001b[1;33m     \u001b[0myear_month\u001b[0m \u001b[1;33m=\u001b[0m \u001b[0mdriver\u001b[0m\u001b[1;33m.\u001b[0m\u001b[0mfind_element\u001b[0m\u001b[1;33m(\u001b[0m\u001b[0mBy\u001b[0m\u001b[1;33m.\u001b[0m\u001b[0mXPATH\u001b[0m\u001b[1;33m,\u001b[0m \u001b[1;34m\"//ul/li[@data-view='month current']\"\u001b[0m\u001b[1;33m)\u001b[0m\u001b[1;33m.\u001b[0m\u001b[0mtext\u001b[0m\u001b[1;33m.\u001b[0m\u001b[0msplit\u001b[0m\u001b[1;33m(\u001b[0m\u001b[1;34m'.'\u001b[0m\u001b[1;33m)\u001b[0m\u001b[1;33m\u001b[0m\u001b[1;33m\u001b[0m\u001b[0m\n\u001b[0m\u001b[0;32m      3\u001b[0m     \u001b[0myear\u001b[0m \u001b[1;33m=\u001b[0m \u001b[0myear_month\u001b[0m\u001b[1;33m[\u001b[0m\u001b[1;36m0\u001b[0m\u001b[1;33m]\u001b[0m\u001b[1;33m.\u001b[0m\u001b[0mstrip\u001b[0m\u001b[1;33m(\u001b[0m\u001b[1;33m)\u001b[0m\u001b[1;33m\u001b[0m\u001b[1;33m\u001b[0m\u001b[0m\n\u001b[0;32m      4\u001b[0m     \u001b[0mmonth\u001b[0m \u001b[1;33m=\u001b[0m \u001b[0myear_month\u001b[0m\u001b[1;33m[\u001b[0m\u001b[1;36m1\u001b[0m\u001b[1;33m]\u001b[0m\u001b[1;33m.\u001b[0m\u001b[0mstrip\u001b[0m\u001b[1;33m(\u001b[0m\u001b[1;33m)\u001b[0m\u001b[1;33m\u001b[0m\u001b[1;33m\u001b[0m\u001b[0m\n\u001b[0;32m      5\u001b[0m \u001b[1;33m\u001b[0m\u001b[0m\n",
      "\u001b[1;32m~\\anaconda3\\envs\\musical\\lib\\site-packages\\selenium\\webdriver\\remote\\webdriver.py\u001b[0m in \u001b[0;36mfind_element\u001b[1;34m(self, by, value)\u001b[0m\n\u001b[0;32m    974\u001b[0m                 \u001b[0mby\u001b[0m \u001b[1;33m=\u001b[0m \u001b[0mBy\u001b[0m\u001b[1;33m.\u001b[0m\u001b[0mCSS_SELECTOR\u001b[0m\u001b[1;33m\u001b[0m\u001b[1;33m\u001b[0m\u001b[0m\n\u001b[0;32m    975\u001b[0m                 \u001b[0mvalue\u001b[0m \u001b[1;33m=\u001b[0m \u001b[1;34m'[name=\"%s\"]'\u001b[0m \u001b[1;33m%\u001b[0m \u001b[0mvalue\u001b[0m\u001b[1;33m\u001b[0m\u001b[1;33m\u001b[0m\u001b[0m\n\u001b[1;32m--> 976\u001b[1;33m         return self.execute(Command.FIND_ELEMENT, {\n\u001b[0m\u001b[0;32m    977\u001b[0m             \u001b[1;34m'using'\u001b[0m\u001b[1;33m:\u001b[0m \u001b[0mby\u001b[0m\u001b[1;33m,\u001b[0m\u001b[1;33m\u001b[0m\u001b[1;33m\u001b[0m\u001b[0m\n\u001b[0;32m    978\u001b[0m             'value': value})['value']\n",
      "\u001b[1;32m~\\anaconda3\\envs\\musical\\lib\\site-packages\\selenium\\webdriver\\remote\\webdriver.py\u001b[0m in \u001b[0;36mexecute\u001b[1;34m(self, driver_command, params)\u001b[0m\n\u001b[0;32m    319\u001b[0m         \u001b[0mresponse\u001b[0m \u001b[1;33m=\u001b[0m \u001b[0mself\u001b[0m\u001b[1;33m.\u001b[0m\u001b[0mcommand_executor\u001b[0m\u001b[1;33m.\u001b[0m\u001b[0mexecute\u001b[0m\u001b[1;33m(\u001b[0m\u001b[0mdriver_command\u001b[0m\u001b[1;33m,\u001b[0m \u001b[0mparams\u001b[0m\u001b[1;33m)\u001b[0m\u001b[1;33m\u001b[0m\u001b[1;33m\u001b[0m\u001b[0m\n\u001b[0;32m    320\u001b[0m         \u001b[1;32mif\u001b[0m \u001b[0mresponse\u001b[0m\u001b[1;33m:\u001b[0m\u001b[1;33m\u001b[0m\u001b[1;33m\u001b[0m\u001b[0m\n\u001b[1;32m--> 321\u001b[1;33m             \u001b[0mself\u001b[0m\u001b[1;33m.\u001b[0m\u001b[0merror_handler\u001b[0m\u001b[1;33m.\u001b[0m\u001b[0mcheck_response\u001b[0m\u001b[1;33m(\u001b[0m\u001b[0mresponse\u001b[0m\u001b[1;33m)\u001b[0m\u001b[1;33m\u001b[0m\u001b[1;33m\u001b[0m\u001b[0m\n\u001b[0m\u001b[0;32m    322\u001b[0m             response['value'] = self._unwrap_value(\n\u001b[0;32m    323\u001b[0m                 response.get('value', None))\n",
      "\u001b[1;32m~\\anaconda3\\envs\\musical\\lib\\site-packages\\selenium\\webdriver\\remote\\errorhandler.py\u001b[0m in \u001b[0;36mcheck_response\u001b[1;34m(self, response)\u001b[0m\n\u001b[0;32m    240\u001b[0m                 \u001b[0malert_text\u001b[0m \u001b[1;33m=\u001b[0m \u001b[0mvalue\u001b[0m\u001b[1;33m[\u001b[0m\u001b[1;34m'alert'\u001b[0m\u001b[1;33m]\u001b[0m\u001b[1;33m.\u001b[0m\u001b[0mget\u001b[0m\u001b[1;33m(\u001b[0m\u001b[1;34m'text'\u001b[0m\u001b[1;33m)\u001b[0m\u001b[1;33m\u001b[0m\u001b[1;33m\u001b[0m\u001b[0m\n\u001b[0;32m    241\u001b[0m             \u001b[1;32mraise\u001b[0m \u001b[0mexception_class\u001b[0m\u001b[1;33m(\u001b[0m\u001b[0mmessage\u001b[0m\u001b[1;33m,\u001b[0m \u001b[0mscreen\u001b[0m\u001b[1;33m,\u001b[0m \u001b[0mstacktrace\u001b[0m\u001b[1;33m,\u001b[0m \u001b[0malert_text\u001b[0m\u001b[1;33m)\u001b[0m\u001b[1;33m\u001b[0m\u001b[1;33m\u001b[0m\u001b[0m\n\u001b[1;32m--> 242\u001b[1;33m         \u001b[1;32mraise\u001b[0m \u001b[0mexception_class\u001b[0m\u001b[1;33m(\u001b[0m\u001b[0mmessage\u001b[0m\u001b[1;33m,\u001b[0m \u001b[0mscreen\u001b[0m\u001b[1;33m,\u001b[0m \u001b[0mstacktrace\u001b[0m\u001b[1;33m)\u001b[0m\u001b[1;33m\u001b[0m\u001b[1;33m\u001b[0m\u001b[0m\n\u001b[0m\u001b[0;32m    243\u001b[0m \u001b[1;33m\u001b[0m\u001b[0m\n\u001b[0;32m    244\u001b[0m     \u001b[1;32mdef\u001b[0m \u001b[0m_value_or_default\u001b[0m\u001b[1;33m(\u001b[0m\u001b[0mself\u001b[0m\u001b[1;33m,\u001b[0m \u001b[0mobj\u001b[0m\u001b[1;33m,\u001b[0m \u001b[0mkey\u001b[0m\u001b[1;33m,\u001b[0m \u001b[0mdefault\u001b[0m\u001b[1;33m)\u001b[0m\u001b[1;33m:\u001b[0m\u001b[1;33m\u001b[0m\u001b[1;33m\u001b[0m\u001b[0m\n",
      "\u001b[1;31mNoSuchWindowException\u001b[0m: Message: no such window: target window already closed\nfrom unknown error: web view not found\n  (Session info: chrome=91.0.4472.164)\n"
     ]
    },
    {
     "name": "stdout",
     "output_type": "stream",
     "text": [
      "[<selenium.webdriver.remote.webelement.WebElement (session=\"521f26292d5354d4930d0a0f36f51bc2\", element=\"0716805a-7585-420a-8421-f70acf2894cc\")>]\n"
     ]
    },
    {
     "name": "stderr",
     "output_type": "stream",
     "text": [
      "C:\\Users\\swimm\\anaconda3\\envs\\musical\\lib\\site-packages\\selenium\\webdriver\\remote\\webdriver.py:1149: UserWarning: Only 'current' window is supported for W3C compatibile browsers.\n",
      "  warnings.warn(\"Only 'current' window is supported for W3C compatibile browsers.\")\n"
     ]
    },
    {
     "name": "stdout",
     "output_type": "stream",
     "text": [
      "2021. 07\n",
      "[<selenium.webdriver.remote.webelement.WebElement (session=\"521f26292d5354d4930d0a0f36f51bc2\", element=\"8db95742-4218-4e7f-90ab-db1efe690bb4\")>]\n"
     ]
    },
    {
     "ename": "IndexError",
     "evalue": "list index out of range",
     "output_type": "error",
     "traceback": [
      "\u001b[1;31m---------------------------------------------------------------------------\u001b[0m",
      "\u001b[1;31mIndexError\u001b[0m                                Traceback (most recent call last)",
      "\u001b[1;32m<ipython-input-16-8320aedc5e5a>\u001b[0m in \u001b[0;36mticketingStart\u001b[1;34m(self)\u001b[0m\n\u001b[0;32m    107\u001b[0m         \u001b[0mswitching_focus\u001b[0m\u001b[1;33m(\u001b[0m\u001b[0mself\u001b[0m\u001b[1;33m.\u001b[0m\u001b[0mdriver\u001b[0m\u001b[1;33m)\u001b[0m\u001b[1;33m\u001b[0m\u001b[1;33m\u001b[0m\u001b[0m\n\u001b[0;32m    108\u001b[0m         \u001b[0mclose_ticketing_check_popup\u001b[0m\u001b[1;33m(\u001b[0m\u001b[0mself\u001b[0m\u001b[1;33m.\u001b[0m\u001b[0mdriver\u001b[0m\u001b[1;33m)\u001b[0m\u001b[1;33m\u001b[0m\u001b[1;33m\u001b[0m\u001b[0m\n\u001b[1;32m--> 109\u001b[1;33m         \u001b[0mwaitSafeBooking\u001b[0m\u001b[1;33m(\u001b[0m\u001b[0mself\u001b[0m\u001b[1;33m.\u001b[0m\u001b[0mdriver\u001b[0m\u001b[1;33m)\u001b[0m\u001b[1;33m\u001b[0m\u001b[1;33m\u001b[0m\u001b[0m\n\u001b[0m\u001b[0;32m    110\u001b[0m \u001b[1;33m\u001b[0m\u001b[0m\n\u001b[0;32m    111\u001b[0m         \u001b[0mclickWantSeat\u001b[0m\u001b[1;33m(\u001b[0m\u001b[0mself\u001b[0m\u001b[1;33m.\u001b[0m\u001b[0mdriver\u001b[0m\u001b[1;33m)\u001b[0m\u001b[1;33m\u001b[0m\u001b[1;33m\u001b[0m\u001b[0m\n",
      "\u001b[1;32m<ipython-input-10-d006f5426844>\u001b[0m in \u001b[0;36mwaitSafeBooking\u001b[1;34m(driver)\u001b[0m\n\u001b[0;32m      5\u001b[0m \u001b[1;33m\u001b[0m\u001b[0m\n\u001b[0;32m      6\u001b[0m     \u001b[0mrecaptcha_input\u001b[0m \u001b[1;33m=\u001b[0m \u001b[0mdriver\u001b[0m\u001b[1;33m.\u001b[0m\u001b[0mfind_elements\u001b[0m\u001b[1;33m(\u001b[0m\u001b[0mBy\u001b[0m\u001b[1;33m.\u001b[0m\u001b[0mXPATH\u001b[0m\u001b[1;33m,\u001b[0m \u001b[1;34m\"//div[@class='validationTxt']\"\u001b[0m\u001b[1;33m)\u001b[0m\u001b[1;33m\u001b[0m\u001b[1;33m\u001b[0m\u001b[0m\n\u001b[1;32m----> 7\u001b[1;33m     \u001b[0mrecaptcha_input\u001b[0m\u001b[1;33m[\u001b[0m\u001b[1;36m0\u001b[0m\u001b[1;33m]\u001b[0m\u001b[1;33m.\u001b[0m\u001b[0mclick\u001b[0m\u001b[1;33m(\u001b[0m\u001b[1;33m)\u001b[0m\u001b[1;33m\u001b[0m\u001b[1;33m\u001b[0m\u001b[0m\n\u001b[0m\u001b[0;32m      8\u001b[0m \u001b[1;33m\u001b[0m\u001b[0m\n\u001b[0;32m      9\u001b[0m     \u001b[0mvideo_element\u001b[0m \u001b[1;33m=\u001b[0m \u001b[0mWebDriverWait\u001b[0m\u001b[1;33m(\u001b[0m\u001b[0mdriver\u001b[0m\u001b[1;33m,\u001b[0m \u001b[1;36m30\u001b[0m\u001b[1;33m)\u001b[0m\u001b[1;33m.\u001b[0m\u001b[0muntil\u001b[0m\u001b[1;33m(\u001b[0m\u001b[0mEC\u001b[0m\u001b[1;33m.\u001b[0m\u001b[0mpresence_of_element_located\u001b[0m\u001b[1;33m(\u001b[0m\u001b[1;33m(\u001b[0m\u001b[0mBy\u001b[0m\u001b[1;33m.\u001b[0m\u001b[0mXPATH\u001b[0m\u001b[1;33m,\u001b[0m \u001b[1;34m\"//div[@id='divRecaptcha' and @style='display: none;']\"\u001b[0m\u001b[1;33m)\u001b[0m\u001b[1;33m)\u001b[0m\u001b[1;33m)\u001b[0m\u001b[1;33m\u001b[0m\u001b[1;33m\u001b[0m\u001b[0m\n",
      "\u001b[1;31mIndexError\u001b[0m: list index out of range"
     ]
    },
    {
     "ename": "SystemExit",
     "evalue": "0",
     "output_type": "error",
     "traceback": [
      "An exception has occurred, use %tb to see the full traceback.\n",
      "\u001b[1;31mSystemExit\u001b[0m\u001b[1;31m:\u001b[0m 0\n"
     ]
    },
    {
     "name": "stderr",
     "output_type": "stream",
     "text": [
      "C:\\Users\\swimm\\anaconda3\\envs\\musical\\lib\\site-packages\\IPython\\core\\interactiveshell.py:3445: UserWarning: To exit: use 'exit', 'quit', or Ctrl-D.\n",
      "  warn(\"To exit: use 'exit', 'quit', or Ctrl-D.\", stacklevel=1)\n"
     ]
    }
   ],
   "source": [
    "app = QApplication(sys.argv)\n",
    "ex = MyApp()\n",
    "sys.exit(app.exec_())"
   ]
  },
  {
   "cell_type": "code",
   "execution_count": null,
   "id": "478ca21d-85b5-412e-83b7-d9349e976ac7",
   "metadata": {},
   "outputs": [],
   "source": [
    "안심예매인지 아닌지에 따라서 생기는 팝업창이 완전 다른거 같음..!? \n",
    "암튼 유연하게 대처할 수 있는 방법이 필요함\n",
    "\n",
    "안심예매인지 아닌지 자동으로 판별하는 로직이 필요할듯함"
   ]
  }
 ],
 "metadata": {
  "kernelspec": {
   "display_name": "Python 3",
   "language": "python",
   "name": "python3"
  },
  "language_info": {
   "codemirror_mode": {
    "name": "ipython",
    "version": 3
   },
   "file_extension": ".py",
   "mimetype": "text/x-python",
   "name": "python",
   "nbconvert_exporter": "python",
   "pygments_lexer": "ipython3",
   "version": "3.9.5"
  }
 },
 "nbformat": 4,
 "nbformat_minor": 5
}
