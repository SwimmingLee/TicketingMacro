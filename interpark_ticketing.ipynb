{
 "cells": [
  {
   "cell_type": "code",
   "execution_count": 1,
   "id": "98501b58",
   "metadata": {},
   "outputs": [],
   "source": [
    "from selenium import webdriver\n",
    "from selenium.webdriver.common.by import By\n",
    "from selenium.webdriver.support.ui import WebDriverWait\n",
    "from selenium.webdriver.support import expected_conditions as EC\n",
    "from selenium.common.exceptions import NoSuchElementException\n",
    "from selenium.common.exceptions import UnexpectedAlertPresentException\n",
    "from selenium.common.exceptions import ElementNotInteractableException\n",
    "from selenium.webdriver.common.alert import Alert\n",
    "import re\n"
   ]
  },
  {
   "cell_type": "code",
   "execution_count": 2,
   "id": "6b7298b1",
   "metadata": {},
   "outputs": [],
   "source": [
    "def init():\n",
    "    driver = webdriver.Chrome('chromedriver.exe')\n",
    "    driver.implicitly_wait(5)\n",
    "    return driver"
   ]
  },
  {
   "cell_type": "code",
   "execution_count": 3,
   "id": "b347f7cb",
   "metadata": {},
   "outputs": [],
   "source": [
    "def login(driver, id, pwd):\n",
    "    \n",
    "    interpark_login_url = 'https://ticket.interpark.com/Gate/TPLogin.asp?CPage=B&MN=Y&tid1=main_gnb&tid2=right_top&tid3=login&tid4=login&GPage=https%3A%2F%2Ftickets.interpark.com%2Fgoods%2F21002720'\n",
    "    driver.get(interpark_login_url)\n",
    "\n",
    "    driver.switch_to.frame(driver.find_element(By.XPATH, \"//div[@class='leftLoginBox']/iframe[@title='login']\"))\n",
    "    driver.find_element_by_name('userId').send_keys(id)\n",
    "    driver.find_element_by_name('userPwd').send_keys(pwd)\n",
    "    driver.find_element_by_id('btn_login').click()\n",
    "    \n",
    "# 태그가 없으면 에러발생\n",
    "def check_exists_by_element(driver, by, name):\n",
    "    try:\n",
    "        driver.find_element(by, name)\n",
    "    except NoSuchElementException:\n",
    "        return False\n",
    "    return True\n",
    "\n",
    "def close_tickting_info_popup(driver):\n",
    "    # 예매안내가 팝업이 뜨면 닫기. ( ticketingInfo_check : True, False )\n",
    "    ticketinginfo_check = check_exists_by_element(driver, By.XPATH, \"//div[@class='popupWrap']/div[@class='popupFooter']/button[@class='popupCloseBtn is-bottomBtn']\")\n",
    "    if ticketinginfo_check:\n",
    "        popup_close_btn = driver.find_element(By.XPATH, \"//button[@class='popupCloseBtn is-bottomBtn']\")\n",
    "        if popup_close_btn.text != \"\":\n",
    "            popup_close_btn.click()\n",
    "    \n",
    "def click_book_btn(driver):\n",
    "    print(driver.find_element(By.XPATH, \"//li[@data-view='month current']\").text)\n",
    "    \n",
    "#     (driver.find_element(By.XPATH, \"//li[@data-view='month next']\").text)\n",
    "    \n",
    "    # 예매하기 버튼 클릭\n",
    "    driver.find_element(By.XPATH, \"//div[@class='sideBtnWrap']/a[@class='sideBtn is-primary']\").click()\n",
    "\n",
    "def switching_focus(driver):\n",
    "    # 예매하기 눌러서 새창이 뜨면 포커스를 새창으로 변경\n",
    "    driver.switch_to.window(driver.window_handles[1])\n",
    "    driver.get_window_position(driver.window_handles[1])\n",
    "\n",
    "def checkAlertMessageBox(driver):\n",
    "    try:\n",
    "        Alert(driver).dismiss()\n",
    "    except:\n",
    "        print(\"no alter\")\n",
    "    \n",
    "def close_ticketing_check_popup(driver):\n",
    "    try:\n",
    "        # 예매안내가 팝업이 뜨면 닫기. ( ticketingInfo_check : True, False )\n",
    "        driver.switch_to.default_content()\n",
    "        ticketingInfo_check = check_exists_by_element(driver, By.XPATH, \"//div[@class='layerWrap']/div[@class='titleArea']/a[@class='closeBtn']\")\n",
    "        if ticketingInfo_check:\n",
    "            driver.find_element(By.XPATH, \"//div[@class='layerWrap']/div[@class='titleArea']/a[@class='closeBtn']\").click()\n",
    "    except ElementNotInteractableException as ex:\n",
    "        print(\"Occur ElementNotInteractableException\")\n",
    "        pass\n",
    "    except Exception as ex:\n",
    "        print(\"한 번 더! close ticketing check popup\", ex)\n",
    "        close_ticketing_check_popup(driver)\n",
    "        \n",
    "def clickWantDate(driver, wantYear, wantMonth, wantDate, wantTime):\n",
    "    try:\n",
    "        # 날짜 아이프레임\n",
    "        driver.switch_to.default_content()\n",
    "        driver.switch_to.frame(driver.find_element(By.XPATH, \"//div[@class='contL']/iframe[@id='ifrmBookStep']\"))\n",
    "        # 월 체크\n",
    "        calHead = driver.find_elements(By.XPATH, \"//div[@class='calHead']/div[@class='month']/span\")\n",
    "        year_month = calHead[1].find_elements(By.XPATH, \"//em\")\n",
    "        year = year_month[0].text  # 년\n",
    "        month = year_month[1].text  # 월\n",
    "\n",
    "        yearC = wantYear - int(year)\t# wantYear : 예매 원하는 년\n",
    "        monthC = wantMonth - int(month)\t# wantMonth : 예매 원하는 월\n",
    "\n",
    "        s = yearC * 12 + monthC\n",
    "        i = 0\n",
    "        # 월 이동\n",
    "        if s > 0:\n",
    "            while i < s:\n",
    "                calHead[2].click()\n",
    "                i = i + 1\n",
    "                calHead = driver.find_elements(By.XPATH, \"//div[@class='calHead']/div[@class='month']/span\")\n",
    "        elif s < 0:\n",
    "            while i < s:\n",
    "                calHead[0].click()\n",
    "                i = i - 1\n",
    "                calHead = driver.find_elements(By.XPATH, \"//div[@class='calHead']/div[@class='month']/span\")\n",
    "\n",
    "        # 선택 가능한 날짜 모두 불러오기\n",
    "        CellPlayDate = driver.find_elements(By.NAME, \"CellPlayDate\")\n",
    "\n",
    "        # 일 선택\n",
    "        for cell in CellPlayDate:\n",
    "            if cell.text == wantDate:\t# wantDate : 예매 원하는 일\n",
    "                cell.click()\n",
    "                break\n",
    "        print(driver.find_element(By.XPATH, \"//div[@class='month']\").text)\n",
    "\n",
    "        # 선택 가능한 날짜 모두 불러오기\n",
    "        CellPlayDate = driver.find_elements(By.NAME, \"CellPlayDate\")\n",
    "\n",
    "        # 일 선택\n",
    "        for cell in CellPlayDate:\n",
    "            if int(cell.text) == wantDate:\t# wantDate : 예매 원하는 일\n",
    "                cell.click()\n",
    "                break\n",
    "\n",
    "        CellPlaySeq = driver.find_elements(By.NAME, \"CellPlaySeq\")\n",
    "        for cell in CellPlaySeq:\n",
    "            time = cell.text[:2]+cell.text[4:6]\n",
    "            print(time)\n",
    "            if time == wantTime:\n",
    "                cell.click()\n",
    "\n",
    "        driver.switch_to.default_content()\n",
    "        nextBtn = driver.find_element(By.XPATH, \"//p[@id='LargeNextBtn']\")\n",
    "        print(nextBtn.text)\n",
    "        nextBtn.click()\n",
    "    except UnexpectedAlertPresentException as ex:\n",
    "        print(\"Occur UnexpectedAlertPresentException Error! Try again\")\n",
    "        close_ticketing_check_popup(driver)\n",
    "        clickWantDate(driver, wantYear, wantMonth, wantDate, wantTime)\n",
    "    except Exception as ex:\n",
    "        print(\"error 발생!\", ex)\n",
    "        clickWantDate(driver, wantYear, wantMonth, wantDate, wantTime)\n",
    "#         print(\"한 번 더! clickWantDate\", ex)\n",
    "#         close_ticketing_check_popup(driver)\n",
    "        \n",
    "    \n",
    "def clickWantSeat(driver):\n",
    "    driver.switch_to.default_content()\n",
    "    driver.switch_to.frame(driver.find_element(By.XPATH, \"//div[@id='divBookSeat']/iframe[@id='ifrmSeat']\"))\n",
    "    driver.switch_to.frame(driver.find_element(By.XPATH, \"//div[@class='seatL']/iframe[@id='ifrmSeatDetail']\"))\n",
    "    stySeats = driver.find_elements(By.XPATH, \"//img[@class='stySeat']\")\n",
    "    for seat in stySeats:\n",
    "        seatInfo = seat.get_attribute(\"onclick\").split(',')\n",
    "\n",
    "        floor = int(re.findall('\\d+', seatInfo[2])[0])\n",
    "        column = int(re.findall('\\d+', seatInfo[3])[0])\n",
    "        row = int(re.findall('\\d+', seatInfo[4])[0])\n",
    "\n",
    "        if floor == 1 and column <= 25 and 9 <= row <= 24:\n",
    "            seat.click()\n",
    "            break\n",
    "    \n",
    "    driver.switch_to.default_content()\n",
    "    driver.switch_to.frame(driver.find_element(By.XPATH, \"//div[@id='divBookSeat']/iframe[@id='ifrmSeat']\"))\n",
    "    nextBtn = driver.find_element(By.XPATH, \"//div[@class='btnWrap']/a\")\n",
    "    print(nextBtn.text)\n",
    "    nextBtn.click()\n",
    "        "
   ]
  },
  {
   "cell_type": "code",
   "execution_count": 19,
   "id": "ba03394e",
   "metadata": {},
   "outputs": [
    {
     "name": "stdout",
     "output_type": "stream",
     "text": [
      "no alter\n"
     ]
    }
   ],
   "source": [
    "checkAlertMessageBox(driver)"
   ]
  },
  {
   "cell_type": "code",
   "execution_count": 13,
   "id": "5a6c4851",
   "metadata": {},
   "outputs": [
    {
     "name": "stdout",
     "output_type": "stream",
     "text": [
      "2021. 07\n"
     ]
    }
   ],
   "source": [
    "driver = init()\n",
    "login(driver, 'dkrakzldnl', 'cjsdks12^^')\n",
    "close_tickting_info_popup(driver)\n",
    "click_book_btn(driver)\n",
    "switching_focus(driver)\n",
    "# close_ticketing_check_popup(driver)\n",
    "# clickWantDate(driver, 2021, 8, 1, '1900')\n",
    "# clickWantSeat(driver)\n",
    "# clickTicketPrice(driver)\n",
    "# confirmOderInfo(driver, '930111', ['010', '7294', '6010'])\n",
    "# clickPaymentMethod(driver, '농협(중앙)')\n",
    "# # agreePayment(driver)"
   ]
  },
  {
   "cell_type": "code",
   "execution_count": 92,
   "id": "10f3dba9",
   "metadata": {},
   "outputs": [],
   "source": []
  },
  {
   "cell_type": "code",
   "execution_count": 94,
   "id": "5c9af6ff",
   "metadata": {
    "scrolled": true
   },
   "outputs": [
    {
     "name": "stdout",
     "output_type": "stream",
     "text": [
      "2021년 8월\n",
      "1400\n",
      "1900\n",
      "\n",
      "\n"
     ]
    },
    {
     "ename": "NameError",
     "evalue": "name 'clickPaymentMethod' is not defined",
     "output_type": "error",
     "traceback": [
      "\u001b[1;31m---------------------------------------------------------------------------\u001b[0m",
      "\u001b[1;31mNameError\u001b[0m                                 Traceback (most recent call last)",
      "\u001b[1;32m<ipython-input-94-6d34e1a64b62>\u001b[0m in \u001b[0;36m<module>\u001b[1;34m\u001b[0m\n\u001b[0;32m      4\u001b[0m \u001b[0mclickTicketPrice\u001b[0m\u001b[1;33m(\u001b[0m\u001b[0mdriver\u001b[0m\u001b[1;33m)\u001b[0m\u001b[1;33m\u001b[0m\u001b[1;33m\u001b[0m\u001b[0m\n\u001b[0;32m      5\u001b[0m \u001b[0mconfirmOderInfo\u001b[0m\u001b[1;33m(\u001b[0m\u001b[0mdriver\u001b[0m\u001b[1;33m,\u001b[0m \u001b[1;34m'930111'\u001b[0m\u001b[1;33m,\u001b[0m \u001b[1;33m[\u001b[0m\u001b[1;34m'010'\u001b[0m\u001b[1;33m,\u001b[0m \u001b[1;34m'7294'\u001b[0m\u001b[1;33m,\u001b[0m \u001b[1;34m'6010'\u001b[0m\u001b[1;33m]\u001b[0m\u001b[1;33m)\u001b[0m\u001b[1;33m\u001b[0m\u001b[1;33m\u001b[0m\u001b[0m\n\u001b[1;32m----> 6\u001b[1;33m \u001b[0mclickPaymentMethod\u001b[0m\u001b[1;33m(\u001b[0m\u001b[0mdriver\u001b[0m\u001b[1;33m,\u001b[0m \u001b[1;34m'농협(중앙)'\u001b[0m\u001b[1;33m)\u001b[0m\u001b[1;33m\u001b[0m\u001b[1;33m\u001b[0m\u001b[0m\n\u001b[0m\u001b[0;32m      7\u001b[0m \u001b[0mclickPayment\u001b[0m\u001b[1;33m(\u001b[0m\u001b[0mdriver\u001b[0m\u001b[1;33m)\u001b[0m\u001b[1;33m\u001b[0m\u001b[1;33m\u001b[0m\u001b[0m\n",
      "\u001b[1;31mNameError\u001b[0m: name 'clickPaymentMethod' is not defined"
     ]
    }
   ],
   "source": [
    "close_ticketing_check_popup(driver)\n",
    "clickWantDate(driver, 2021, 8, 1, '1900')\n",
    "clickWantSeat(driver)\n",
    "clickTicketPrice(driver)\n",
    "confirmOderInfo(driver, '930111', ['010', '7294', '6010'])\n",
    "clickPaymentMethod(driver, '농협(중앙)')\n",
    "agreePayment(driver)"
   ]
  },
  {
   "cell_type": "code",
   "execution_count": 28,
   "id": "5fced25b",
   "metadata": {},
   "outputs": [
    {
     "name": "stdout",
     "output_type": "stream",
     "text": [
      "\n"
     ]
    }
   ],
   "source": [
    "clickWantSeat(driver)"
   ]
  },
  {
   "cell_type": "code",
   "execution_count": 4,
   "id": "48b7ead5",
   "metadata": {},
   "outputs": [],
   "source": [
    "def clickTicketPrice(driver):\n",
    "    driver.switch_to.default_content()\n",
    "    driver.switch_to.frame(driver.find_element(By.XPATH, \"//div[@class='contL']/iframe[@id='ifrmBookStep']\"))\n",
    "    ticketNums = driver.find_elements(By.XPATH, \"//tr[@id='PriceRow001']/td[@class='taL']/select/option\")\n",
    "    for ticketNum in ticketNums:\n",
    "        num = int(re.findall('\\d+', ticketNum.text)[0])\n",
    "        if num == 1:\n",
    "            ticketNum.click()\n",
    "            break\n",
    "\n",
    "    driver.switch_to.default_content()\n",
    "    driver.find_element(By.XPATH, \"//p[@id='SmallNextBtn']\").click()"
   ]
  },
  {
   "cell_type": "code",
   "execution_count": 5,
   "id": "db7e5e5d",
   "metadata": {},
   "outputs": [],
   "source": [
    "birthDay = '930111'\n",
    "phoneNumber = ['010', '7294', '6010']\n",
    "def confirmOderInfo(driver, birthDay, phoneNumber):\n",
    "    driver.switch_to.default_content()\n",
    "    driver.switch_to.frame(driver.find_element(By.XPATH, \"//div[@class='contL']/iframe[@id='ifrmBookStep']\"))\n",
    "    driver.find_element_by_id('YYMMDD').clear()\n",
    "    driver.find_element_by_id('YYMMDD').send_keys(birthDay)\n",
    "    driver.find_element_by_id('HpNo1').clear()\n",
    "    driver.find_element_by_id('HpNo1').send_keys(phoneNumber[0])\n",
    "    driver.find_element_by_id('HpNo2').clear()\n",
    "    driver.find_element_by_id('HpNo2').send_keys(phoneNumber[1])\n",
    "    driver.find_element_by_id('HpNo3').clear()\n",
    "    driver.find_element_by_id('HpNo3').send_keys(phoneNumber[2])\n",
    "\n",
    "    driver.switch_to.default_content()\n",
    "    driver.find_element(By.XPATH, \"//p[@id='SmallNextBtn']\").click()"
   ]
  },
  {
   "cell_type": "code",
   "execution_count": 6,
   "id": "2a15f7e5",
   "metadata": {},
   "outputs": [],
   "source": [
    "wantBank = '농협(중앙)'\n",
    "\n",
    "def clickPaymentMethod(driver, wantBank):\n",
    "    driver.switch_to.default_content()\n",
    "    driver.switch_to.frame(driver.find_element(By.XPATH, \"//div[@class='contL']/iframe[@id='ifrmBookStep']\"))\n",
    "    \n",
    "    # 무통장입금 클릭(매칭 id로 검색)\n",
    "    # 유연하게 진행하기 위해선 결제방식에 따른 id값을 미리 가지고 있을 필요있음\n",
    "    driver.find_element(By.XPATH, \"//tr[@id='Payment_22004']/td/input\").click()\n",
    "\n",
    "    # 입금 은행 - 농협 클릭\n",
    "    banks = driver.find_elements(By.XPATH, \"//select[@id='BankCode']/option\")\n",
    "    for bank in banks:\n",
    "        if bank.text == wantBank:\n",
    "            bank.click()\n",
    "            break\n",
    "\n",
    "    driver.switch_to.default_content()\n",
    "    driver.find_element(By.XPATH, \"//p[@id='SmallNextBtn']\").click()\n"
   ]
  },
  {
   "cell_type": "code",
   "execution_count": 7,
   "id": "7d33e7b1",
   "metadata": {},
   "outputs": [],
   "source": [
    "\n",
    "def agreePayment(driver):\n",
    "    driver.switch_to.default_content()\n",
    "    driver.switch_to.frame(driver.find_element(By.XPATH, \"//div[@class='contL']/iframe[@id='ifrmBookStep']\"))\n",
    "    driver.find_element_by_id('checkAll').click()\n",
    "\n",
    "    driver.switch_to.default_content()\n",
    "    driver.find_element(By.XPATH, \"//p[@id='LargeNextBtn']\").click()"
   ]
  }
 ],
 "metadata": {
  "kernelspec": {
   "display_name": "Python 3",
   "language": "python",
   "name": "python3"
  },
  "language_info": {
   "codemirror_mode": {
    "name": "ipython",
    "version": 3
   },
   "file_extension": ".py",
   "mimetype": "text/x-python",
   "name": "python",
   "nbconvert_exporter": "python",
   "pygments_lexer": "ipython3",
   "version": "3.9.5"
  }
 },
 "nbformat": 4,
 "nbformat_minor": 5
}
